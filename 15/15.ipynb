{
 "cells": [
  {
   "cell_type": "code",
   "execution_count": null,
   "metadata": {},
   "outputs": [],
   "source": [
    "class Generator():\n",
    "    div = 2147483647\n",
    "    def __init__(self, factor, value):\n",
    "        self.factor = factor\n",
    "        self.value = value\n",
    "\n",
    "    def next(self):\n",
    "        self.value = (self.value * self.factor) % self.div\n",
    "        return self\n",
    "\n",
    "    def bin(self):\n",
    "        binary = bin(self.value)\n",
    "\n",
    "        if len(binary) >= 18:\n",
    "            return binary[-16:]\n",
    "        else:\n",
    "            binary = binary[2:]\n",
    "            while len(binary) != 16:\n",
    "                binary = '0' + binary\n",
    "            return binary\n",
    "                    \n",
    "class Judge():\n",
    "    def __init__(self, a, b):\n",
    "        self.a = a\n",
    "        self.b = b\n",
    "        self.tot = 0\n",
    "\n",
    "    def match(self):\n",
    "        self.next()\n",
    "        a_ = self.a.bin()\n",
    "        b_ = self.b.bin()\n",
    "        if a_ == b_:\n",
    "            self.tot += 1\n",
    "\n",
    "    def run(self, iterations):\n",
    "        print_every = int(1e6)\n",
    "        for i in range(iterations):\n",
    "            self.match()\n",
    "        return self.tot\n",
    "\n",
    "    def next(self):\n",
    "        self.a.next(), self.b.next()\n",
    "\n",
    "def init():\n",
    "    a = Generator(16807, 65)\n",
    "    b = Generator(48271, 8921)\n",
    "    return Judge(a, b)\n",
    "\n",
    "assert init().run(5) == 1"
   ]
  },
  {
   "cell_type": "code",
   "execution_count": null,
   "metadata": {},
   "outputs": [],
   "source": [
    "print(init().run(int(40e6)))"
   ]
  },
  {
   "cell_type": "code",
   "execution_count": null,
   "metadata": {},
   "outputs": [],
   "source": [
    "def init():    \n",
    "    a = Generator(16807, 873)\n",
    "    b = Generator(48271, 583)\n",
    "    return Judge(a, b)\n",
    "\n",
    "print(init().run(int(40e6)))"
   ]
  },
  {
   "cell_type": "code",
   "execution_count": null,
   "metadata": {},
   "outputs": [],
   "source": [
    "%load_ext Cython"
   ]
  },
  {
   "cell_type": "code",
   "execution_count": null,
   "metadata": {},
   "outputs": [],
   "source": [
    "%%cython \n",
    "\n",
    "def cnext(value, factor, div):\n",
    "    return (value * factor) % div\n",
    "\n",
    "def cnext2(value, factor, div):\n",
    "    return cnext_(value, factor, div)\n",
    "\n",
    "cdef cnext_(int value, int factor, int div):\n",
    "    cdef int res\n",
    "    res = (value * factor) % div\n",
    "    return res\n"
   ]
  },
  {
   "cell_type": "code",
   "execution_count": null,
   "metadata": {},
   "outputs": [],
   "source": [
    "def next_(value, factor, div):\n",
    "    return (value * factor) % div\n",
    "\n",
    "num = lambda: np.random.randint(10, int(1e5))\n",
    "inputs = lambda: (num(), num(), num())\n",
    "\n",
    "%timeit next_(*inputs())\n",
    "%timeit cnext(*inputs())\n",
    "%timeit cnext2(*inputs())"
   ]
  }
 ],
 "metadata": {
  "kernelspec": {
   "display_name": "Python 3",
   "language": "python",
   "name": "python3"
  },
  "language_info": {
   "codemirror_mode": {
    "name": "ipython",
    "version": 3
   },
   "file_extension": ".py",
   "mimetype": "text/x-python",
   "name": "python",
   "nbconvert_exporter": "python",
   "pygments_lexer": "ipython3",
   "version": "3.5.2"
  }
 },
 "nbformat": 4,
 "nbformat_minor": 2
}
