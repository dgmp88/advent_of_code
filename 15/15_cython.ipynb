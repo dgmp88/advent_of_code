{
 "cells": [
  {
   "cell_type": "code",
   "execution_count": 1,
   "metadata": {},
   "outputs": [],
   "source": [
    "%load_ext Cython"
   ]
  },
  {
   "cell_type": "markdown",
   "metadata": {},
   "source": [
    "# Part 1"
   ]
  },
  {
   "cell_type": "code",
   "execution_count": 6,
   "metadata": {},
   "outputs": [],
   "source": [
    "%%cython \n",
    "\n",
    "cdef class Generator:\n",
    "    cdef long div, factor, value \n",
    "    \n",
    "    def __init__(Generator self, int factor, int value):\n",
    "        self.div = 2147483647\n",
    "        self.factor = factor\n",
    "        self.value = value\n",
    "\n",
    "    cdef next(Generator self):\n",
    "        self.value = (self.value * self.factor) % self.div\n",
    "        return self\n",
    "\n",
    "    cdef bin(Generator self):\n",
    "        cdef str binary = bin(self.value)\n",
    "        cdef str pad = '0'\n",
    "        \n",
    "        if len(binary) >= 18:\n",
    "            return binary[-16:]\n",
    "        else:\n",
    "            \n",
    "            binary = binary[2:]\n",
    "            while len(binary) != 16:\n",
    "                binary = pad + binary\n",
    "            return binary\n",
    "        \n",
    "                   \n",
    "cdef class Judge:\n",
    "    cdef Generator a, b \n",
    "    cdef int tot\n",
    "\n",
    "    def __init__(Judge self, a, b):\n",
    "        self.a = a\n",
    "        self.b = b\n",
    "        self.tot = 0\n",
    "\n",
    "    def match(Judge self):\n",
    "        self.next()\n",
    "        a_ = self.a.bin()\n",
    "        b_ = self.b.bin()\n",
    "        if a_ == b_:\n",
    "            self.tot += 1\n",
    "\n",
    "    def run(Judge self, iterations):\n",
    "        print_every = int(1e6)\n",
    "        for i in range(iterations):\n",
    "            self.match()\n",
    "        return self.tot\n",
    "\n",
    "    def next(Judge self):\n",
    "        self.a.next(), self.b.next()\n",
    "\n",
    "def init():\n",
    "    a = Generator(16807, 65)\n",
    "    b = Generator(48271, 8921)\n",
    "    return Judge(a, b)"
   ]
  },
  {
   "cell_type": "code",
   "execution_count": 9,
   "metadata": {},
   "outputs": [],
   "source": [
    "assert init().run(5) == 1\n",
    "assert init().run(int(40e6)) == 588"
   ]
  },
  {
   "cell_type": "code",
   "execution_count": 10,
   "metadata": {},
   "outputs": [
    {
     "name": "stdout",
     "output_type": "stream",
     "text": [
      "631\n"
     ]
    }
   ],
   "source": [
    "def init():    \n",
    "    a = Generator(16807, 873)\n",
    "    b = Generator(48271, 583)\n",
    "    return Judge(a, b)\n",
    "\n",
    "print(init().run(int(40e6)))"
   ]
  },
  {
   "cell_type": "markdown",
   "metadata": {},
   "source": [
    "# Part 2"
   ]
  },
  {
   "cell_type": "code",
   "execution_count": 27,
   "metadata": {},
   "outputs": [],
   "source": [
    "%%cython \n",
    "\n",
    "cdef class Generator:\n",
    "    cdef long div, factor, value, mult\n",
    "    \n",
    "    def __init__(Generator self, long factor, long value, long mult):\n",
    "        self.div = 2147483647\n",
    "        self.factor = factor\n",
    "        self.value = value\n",
    "        self.mult = mult\n",
    "        \n",
    "\n",
    "    cdef next(Generator self):\n",
    "        while True:\n",
    "            self.value = (self.value * self.factor) % self.div\n",
    "            if self.value % self.mult == 0:\n",
    "                return self\n",
    "\n",
    "    cdef bin(Generator self):\n",
    "        cdef str binary = bin(self.value)\n",
    "        cdef str pad = '0'\n",
    "        \n",
    "        if len(binary) >= 18:\n",
    "            return binary[-16:]\n",
    "        else:\n",
    "            \n",
    "            binary = binary[2:]\n",
    "            while len(binary) != 16:\n",
    "                binary = pad + binary\n",
    "            return binary\n",
    "        \n",
    "                   \n",
    "cdef class Judge:\n",
    "    cdef Generator a, b \n",
    "    cdef int tot\n",
    "\n",
    "    def __init__(Judge self, a, b):\n",
    "        self.a = a\n",
    "        self.b = b\n",
    "        self.tot = 0\n",
    "\n",
    "    def match(Judge self):\n",
    "        self.next()\n",
    "        a_ = self.a.bin()\n",
    "        b_ = self.b.bin()\n",
    "        if a_ == b_:\n",
    "            self.tot += 1\n",
    "\n",
    "    def run(Judge self, iterations):\n",
    "        print_every = int(1e5)\n",
    "        for i in range(iterations):\n",
    "            if i % print_every == 0:\n",
    "                print(i, end='\\t')\n",
    "            self.match()\n",
    "        return self.tot\n",
    "\n",
    "    def next(Judge self):\n",
    "        self.a.next(), self.b.next()\n",
    "\n",
    "def init():\n",
    "    a = Generator(16807, 65, 4)\n",
    "    b = Generator(48271, 8921, 8)\n",
    "    return Judge(a, b)"
   ]
  },
  {
   "cell_type": "code",
   "execution_count": 30,
   "metadata": {},
   "outputs": [
    {
     "name": "stdout",
     "output_type": "stream",
     "text": [
      "0\t0\t100000\t200000\t300000\t400000\t500000\t600000\t700000\t800000\t900000\t1000000\t1100000\t1200000\t1300000\t1400000\t1500000\t1600000\t1700000\t1800000\t1900000\t2000000\t2100000\t2200000\t2300000\t2400000\t2500000\t2600000\t2700000\t2800000\t2900000\t3000000\t3100000\t3200000\t3300000\t3400000\t3500000\t3600000\t3700000\t3800000\t3900000\t4000000\t4100000\t4200000\t4300000\t4400000\t4500000\t4600000\t4700000\t4800000\t4900000\t"
     ]
    }
   ],
   "source": [
    "assert init().run(1056) == 1\n",
    "assert init().run(int(5e6)) == 309"
   ]
  },
  {
   "cell_type": "code",
   "execution_count": 31,
   "metadata": {},
   "outputs": [
    {
     "name": "stdout",
     "output_type": "stream",
     "text": [
      "0\t100000\t200000\t300000\t400000\t500000\t600000\t700000\t800000\t900000\t1000000\t1100000\t1200000\t1300000\t1400000\t1500000\t1600000\t1700000\t1800000\t1900000\t2000000\t2100000\t2200000\t2300000\t2400000\t2500000\t2600000\t2700000\t2800000\t2900000\t3000000\t3100000\t3200000\t3300000\t3400000\t3500000\t3600000\t3700000\t3800000\t3900000\t4000000\t4100000\t4200000\t4300000\t4400000\t4500000\t4600000\t4700000\t4800000\t4900000\t279\n"
     ]
    }
   ],
   "source": [
    "def init():    \n",
    "    a = Generator(16807, 873, 4)\n",
    "    b = Generator(48271, 583, 8)\n",
    "    return Judge(a, b)\n",
    "\n",
    "print(init().run(int(5e6)))"
   ]
  }
 ],
 "metadata": {
  "kernelspec": {
   "display_name": "Python 3",
   "language": "python",
   "name": "python3"
  },
  "language_info": {
   "codemirror_mode": {
    "name": "ipython",
    "version": 3
   },
   "file_extension": ".py",
   "mimetype": "text/x-python",
   "name": "python",
   "nbconvert_exporter": "python",
   "pygments_lexer": "ipython3",
   "version": "3.5.2"
  }
 },
 "nbformat": 4,
 "nbformat_minor": 2
}
