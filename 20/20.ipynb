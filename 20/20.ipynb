{
 "cells": [
  {
   "cell_type": "code",
   "execution_count": 1,
   "metadata": {},
   "outputs": [
    {
     "name": "stdout",
     "output_type": "stream",
     "text": [
      "243\n"
     ]
    }
   ],
   "source": [
    "import data\n",
    "import re\n",
    "import numpy as np\n",
    "\n",
    "def get_nums(prefix, string):\n",
    "    exp = prefix + '=<([- 0-9,]+)>'\n",
    "    nums = re.findall(exp, string)[0].split(',')\n",
    "    nums = [int(num) for num in nums]    \n",
    "    return np.array(nums)\n",
    "\n",
    "class Particle:\n",
    "    def __init__(self, num, string):\n",
    "        self.num = num\n",
    "        self.p = get_nums('p', string)\n",
    "        self.v = get_nums('v', string)        \n",
    "        self.a = get_nums('a', string)\n",
    "    \n",
    "    def update(self):\n",
    "        self.v += self.a\n",
    "        self.p += self.v\n",
    "    \n",
    "    def dist(self):\n",
    "        return np.abs(self.p).sum()\n",
    "    \n",
    "class Particles:\n",
    "    def __init__(self, data):\n",
    "        self.particles = []\n",
    "        for idx, line in enumerate(data.split('\\n')):\n",
    "            self.particles.append(Particle(idx, line))\n",
    "\n",
    "    def update(self):\n",
    "        for particle in self.particles:\n",
    "            particle.update()\n",
    "            \n",
    "    def get_closest(self):\n",
    "        dists = []\n",
    "        for particle in self.particles:\n",
    "            dists.append((particle.dist(), particle.num))\n",
    "            \n",
    "        dists.sort()\n",
    "        return dists[0][1]\n",
    "        \n",
    "t = Particles(data.test_data)\n",
    "\n",
    "for i in range(1000):\n",
    "    t.update()\n",
    "\n",
    "assert t.get_closest() == 0\n",
    "\n",
    "d = Particles(data.data)\n",
    "\n",
    "for i in range(int(1e3)):\n",
    "    d.update()\n",
    "print(d.get_closest())\n",
    "    "
   ]
  },
  {
   "cell_type": "code",
   "execution_count": 31,
   "metadata": {},
   "outputs": [
    {
     "name": "stdout",
     "output_type": "stream",
     "text": [
      "648\n"
     ]
    }
   ],
   "source": [
    "class Particles_2(Particles):\n",
    "    def update(self):\n",
    "        self.remove_colliders()\n",
    "        for particle in self.particles:\n",
    "            particle.update()\n",
    "            \n",
    "    def remove_colliders(self):\n",
    "        positions = np.zeros((len(self.particles), 3))\n",
    "        for idx, p in enumerate(self.particles):\n",
    "            positions[idx, :] = p.p\n",
    "        _, index, counts = np.unique(positions, axis=0, return_counts=True, return_index=True)\n",
    "        keep = index[counts==1]\n",
    "        self.particles = [self.particles[p] for p in keep]\n",
    "        \n",
    "t = Particles_2(data.test_data_2)\n",
    "\n",
    "for i in range(3):\n",
    "    t.update()\n",
    "assert len(t.particles) == 1\n",
    "\n",
    "d = Particles_2(data.data)\n",
    "\n",
    "for i in range(100):\n",
    "    d.update()\n",
    "print(len(d.particles))\n",
    "\n"
   ]
  }
 ],
 "metadata": {
  "kernelspec": {
   "display_name": "Python 3",
   "language": "python",
   "name": "python3"
  },
  "language_info": {
   "codemirror_mode": {
    "name": "ipython",
    "version": 3
   },
   "file_extension": ".py",
   "mimetype": "text/x-python",
   "name": "python",
   "nbconvert_exporter": "python",
   "pygments_lexer": "ipython3",
   "version": "3.5.2"
  }
 },
 "nbformat": 4,
 "nbformat_minor": 2
}
