{
 "cells": [
  {
   "cell_type": "code",
   "execution_count": 17,
   "metadata": {},
   "outputs": [
    {
     "name": "stdout",
     "output_type": "stream",
     "text": [
      "0\t0\t100000\t200000\t300000\t400000\t500000\t600000\t700000\t800000\t900000\t1000000\t1100000\t1200000\t1300000\t1400000\t1500000\t1600000\t1700000\t1800000\t1900000\t2000000\t2100000\t2200000\t2300000\t2400000\t2500000\t2600000\t2700000\t2800000\t2900000\t3000000\t3100000\t3200000\t3300000\t3400000\t3500000\t3600000\t3700000\t3800000\t3900000\t4000000\t4100000\t4200000\t4300000\t4400000\t4500000\t4600000\t4700000\t4800000\t4900000\t5000000\t5100000\t5200000\t5300000\t5400000\t5500000\t5600000\t5700000\t5800000\t5900000\t6000000\t6100000\t6200000\t6300000\t6400000\t6500000\t6600000\t6700000\t6800000\t6900000\t7000000\t7100000\t7200000\t7300000\t7400000\t7500000\t7600000\t7700000\t7800000\t7900000\t8000000\t8100000\t8200000\t8300000\t8400000\t8500000\t8600000\t8700000\t8800000\t8900000\t9000000\t9100000\t9200000\t9300000\t9400000\t9500000\t9600000\t9700000\t9800000\t9900000\t10000000\t10100000\t10200000\t10300000\t10400000\t10500000\t10600000\t10700000\t10800000\t10900000\t11000000\t11100000\t11200000\t11300000\t11400000\t11500000\t11600000\t11700000\t11800000\t11900000\t12000000\t12100000\t12200000\t"
     ]
    },
    {
     "data": {
      "text/plain": [
       "5744.0"
      ]
     },
     "execution_count": 17,
     "metadata": {},
     "output_type": "execute_result"
    }
   ],
   "source": [
    "import data\n",
    "import numpy as np\n",
    "import re\n",
    "\n",
    "begin = 'Begin in state ([A-Z])'\n",
    "steps = 'Perform a diagnostic checksum after ([0-9]+) steps'\n",
    "state = 'In state ([A-Z])'\n",
    "writes = 'Write the value ([0-9])'\n",
    "moves = 'Move one slot to the ([a-z]+)'\n",
    "states = 'Continue with state ([A-Z])'\n",
    "\n",
    "class Turing:\n",
    "    def __init__(self, instructions):        \n",
    "        # Extract start state\n",
    "        self.state = re.findall(begin, instructions)[0]\n",
    "        \n",
    "        # Extract iterations\n",
    "        self.iter = int(re.findall(steps, instructions)[0])\n",
    "        \n",
    "        # Extract instructions\n",
    "        instructs = [match.groups()[0] for match in re.finditer(state, instructions)]\n",
    "        ws = re.findall(writes, instructions)\n",
    "        ms = re.findall(moves, instructions)\n",
    "        ss = re.findall(states, instructions)\n",
    "        self.instructions = {}\n",
    "        \n",
    "        for idx, s in enumerate(instructs):\n",
    "            zero = idx * 2\n",
    "            one = zero + 1\n",
    "            self.instructions[s] = {}\n",
    "            self.instructions[s][0] = (int(ws[zero]), ms[zero], ss[zero])\n",
    "            self.instructions[s][1] = (int(ws[one]), ms[one], ss[one])\n",
    "            \n",
    "        self.tape = np.zeros(int(1e6)) # really big tape\n",
    "        self.pos = int(self.tape.shape[0]/2)\n",
    "    \n",
    "    def run(self):\n",
    "        for i in range(self.iter):\n",
    "            if i % 100000 == 0:\n",
    "                print(i, end='\\t')\n",
    "            self.next()\n",
    "        return self.tape.sum()\n",
    "    \n",
    "    def next(self):\n",
    "        instruction = self.instructions[self.state][self.tape[self.pos]]\n",
    "        self.tape[self.pos] = instruction[0]\n",
    "        if instruction[1] == 'left':\n",
    "            self.pos -= 1\n",
    "        else:\n",
    "            self.pos += 1\n",
    "        self.state = instruction[2]\n",
    "\n",
    "instructions = data.test_data.split('\\n')\n",
    "\n",
    "t = Turing(data.test_data)\n",
    "assert t.run() == 3\n",
    "\n",
    "t = Turing(data.data)\n",
    "t.run()"
   ]
  }
 ],
 "metadata": {
  "kernelspec": {
   "display_name": "Python 3",
   "language": "python",
   "name": "python3"
  },
  "language_info": {
   "codemirror_mode": {
    "name": "ipython",
    "version": 3
   },
   "file_extension": ".py",
   "mimetype": "text/x-python",
   "name": "python",
   "nbconvert_exporter": "python",
   "pygments_lexer": "ipython3",
   "version": "3.5.2"
  }
 },
 "nbformat": 4,
 "nbformat_minor": 2
}
