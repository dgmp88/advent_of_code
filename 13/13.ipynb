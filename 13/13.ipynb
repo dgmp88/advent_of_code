{
 "cells": [
  {
   "cell_type": "code",
   "execution_count": 1,
   "metadata": {},
   "outputs": [],
   "source": [
    "import data\n",
    "\n",
    "class Firewall():\n",
    "    def __init__(self, data):\n",
    "        self.parse(data)\n",
    "        self.pos = 0\n",
    "        self.score = 0\n",
    "        \n",
    "    def parse(self, data):\n",
    "        config, state = {}, {}\n",
    "        for line in data.split('\\n'):\n",
    "            k, v = line.split(': ')\n",
    "            config[int(k)] = int(v)\n",
    "        \n",
    "        for i in range(max(config.keys())+1):\n",
    "            if i not in config.keys():\n",
    "                config[i] = 0\n",
    "            state[i] = {'pos': 0, 'dir': 1}\n",
    "            \n",
    "        self.config = config            \n",
    "        self.state = state\n",
    "    \n",
    "    def init_state(self):\n",
    "        self.state = {}\n",
    "        for i in range(len(self.config)):\n",
    "            self.state[i] = 0\n",
    "    \n",
    "    def move(self):\n",
    "        # Calculate current score\n",
    "        if self.state[self.pos]['pos'] == 0:\n",
    "            # we were caught! \n",
    "            self.score += (self.pos * self.config[self.pos])\n",
    "        \n",
    "        # Move forward\n",
    "        self.pos += 1\n",
    "    \n",
    "    def step(self):\n",
    "        state, config = self.state, self.config\n",
    "        \n",
    "        # Move the scanners\n",
    "        for i in range(len(self.state)):\n",
    "            if self.config[i] == 0:\n",
    "                continue\n",
    "            state[i]['pos'] += state[i]['dir']\n",
    "            if state[i]['pos'] == 0 or state[i]['pos'] == (config[i] - 1):\n",
    "                state[i]['dir'] = -state[i]['dir']\n",
    "    \n",
    "    def run(self, delay=0):\n",
    "        for i in range(delay):\n",
    "            self.step()\n",
    "            \n",
    "        for i in range(len(self.config)):\n",
    "            self.move()\n",
    "            self.step()\n",
    "        return self.score\n",
    "\n",
    "    def __str__(self):\n",
    "        s = '' \n",
    "        for key in range(len(self.state)):\n",
    "            s += '{idx}: {size} - {pos}\\n'.format(idx=key,\n",
    "                                                  size=self.config[key], \n",
    "                                                  pos=self.state[key]['pos'])\n",
    "        return s\n",
    "\n",
    "f = Firewall(data.test_data)\n",
    "assert f.run() == 24"
   ]
  },
  {
   "cell_type": "code",
   "execution_count": 2,
   "metadata": {},
   "outputs": [
    {
     "name": "stdout",
     "output_type": "stream",
     "text": [
      "Result 1: 2164\n"
     ]
    }
   ],
   "source": [
    "f = Firewall(data.data)\n",
    "print('Result 1:', f.run())"
   ]
  },
  {
   "cell_type": "markdown",
   "metadata": {},
   "source": [
    "# Use delays to avoid getting caught"
   ]
  },
  {
   "cell_type": "code",
   "execution_count": 4,
   "metadata": {},
   "outputs": [],
   "source": [
    "import data\n",
    "\n",
    "class Firewall2(Firewall):\n",
    "    def __init__(self, data):\n",
    "        self.parse(data)\n",
    "        \n",
    "    def caught(self, pos, time):\n",
    "        scanner_size = self.config[pos]\n",
    "        if scanner_size == 0:\n",
    "            return False \n",
    "        elif time == 0:\n",
    "            return True\n",
    "        else: \n",
    "            n = (2 * (scanner_size - 1))\n",
    "            if time % n == 0:\n",
    "                return True\n",
    "        return False\n",
    "    \n",
    "    def find_first_path(self):\n",
    "        n = 0\n",
    "        while True:\n",
    "            if self.run(n):\n",
    "                return n\n",
    "            n += 1\n",
    " \n",
    "    def run(self, time=0):\n",
    "        pos = 0\n",
    "        for i in range(len(self.config)):\n",
    "            if self.caught(pos, time):\n",
    "                return False\n",
    "            pos += 1\n",
    "            time += 1\n",
    "        return True\n",
    "    \n",
    "f = Firewall2(data.test_data)\n",
    "assert f.find_first_path() == 10"
   ]
  },
  {
   "cell_type": "code",
   "execution_count": 5,
   "metadata": {},
   "outputs": [
    {
     "name": "stdout",
     "output_type": "stream",
     "text": [
      "3861798\n"
     ]
    }
   ],
   "source": [
    "f = Firewall2(data.data)\n",
    "print(f.find_first_path())"
   ]
  }
 ],
 "metadata": {
  "kernelspec": {
   "display_name": "Python 3",
   "language": "python",
   "name": "python3"
  },
  "language_info": {
   "codemirror_mode": {
    "name": "ipython",
    "version": 3
   },
   "file_extension": ".py",
   "mimetype": "text/x-python",
   "name": "python",
   "nbconvert_exporter": "python",
   "pygments_lexer": "ipython3",
   "version": "3.5.2"
  }
 },
 "nbformat": 4,
 "nbformat_minor": 2
}
