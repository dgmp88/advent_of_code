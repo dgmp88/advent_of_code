{
 "cells": [
  {
   "cell_type": "code",
   "execution_count": 1,
   "metadata": {},
   "outputs": [
    {
     "name": "stdout",
     "output_type": "stream",
     "text": [
      "answer 1\n",
      "ehdpincaogkblmfj\n",
      "answer 2\n",
      "bpcekomfgjdlinha\n"
     ]
    }
   ],
   "source": [
    "import data\n",
    "import string\n",
    "from collections import OrderedDict\n",
    "from functools import partial\n",
    "\n",
    "abc = string.ascii_lowercase\n",
    "\n",
    "class Dance:\n",
    "    def __init__(self, programs, instructions_text):\n",
    "        self.programs = list(programs)\n",
    "        self.parse(instructions_text)\n",
    "        self.cache_ = OrderedDict()\n",
    "        self.hit_cache = 0\n",
    "        self.make_cache()\n",
    "        \n",
    "    def make_cache(self):\n",
    "        self.loop_size = 0\n",
    "        while self.get_cached() == False:\n",
    "            self.follow_instructions()\n",
    "            self.loop_size += 1\n",
    "        self.cache_list = list(self.cache_.items())\n",
    "    \n",
    "    def parse(self, instructions_text):\n",
    "        instructions = []\n",
    "        for line in instructions_text.split(','):\n",
    "            instruction = line[0]\n",
    "            values = line[1:]\n",
    "            if instruction == 's':\n",
    "                a = int(values)\n",
    "                instructions.append(partial(self.spin, a))\n",
    "            elif instruction == 'x':\n",
    "                a, b = values.split('/')\n",
    "                a, b = int(a), int(b)\n",
    "                instructions.append(partial(self.exchange, a, b))\n",
    "            elif instruction == 'p':\n",
    "                a, b = values.split('/')\n",
    "                instructions.append(partial(self.partner, a, b))\n",
    "        self.instructions = instructions\n",
    "        \n",
    "    def follow_instructions(self):\n",
    "        start_name = str(self)\n",
    "        cached = self.get_cached()\n",
    "        if cached:\n",
    "            self.hit_cache += 1\n",
    "            self.programs = cached\n",
    "            return\n",
    "        \n",
    "        for instruction in self.instructions:\n",
    "            instruction()\n",
    "            \n",
    "        self.cache(start_name)\n",
    "            \n",
    "    def get_cached(self):\n",
    "        name = str(self)\n",
    "        if name in self.cache_:\n",
    "            return self.cache_[name].copy()\n",
    "        else:\n",
    "            return False\n",
    "        \n",
    "    def get_nth(self, n):\n",
    "        key, value = self.cache_list[(n-1) % self.loop_size]\n",
    "        return ''.join(value)\n",
    "        \n",
    "    def cache(self, start_name):\n",
    "        self.cache_[start_name] = self.programs.copy()\n",
    "        \n",
    "    def spin(self, x):\n",
    "        self.programs = self.programs[-x:] + self.programs[:-x]\n",
    "        \n",
    "    def exchange(self, a, b):\n",
    "        self.programs[a], self.programs[b] = self.programs[b], self.programs[a]\n",
    "    \n",
    "    def partner(self, a, b):\n",
    "        a_idx = self.programs.index(a)\n",
    "        b_idx = self.programs.index(b)\n",
    "\n",
    "        self.programs[a_idx], self.programs[b_idx] = b, a\n",
    "    \n",
    "    def __str__(self):\n",
    "        return ''.join(self.programs)\n",
    "\n",
    "    \n",
    "d = Dance(abc[:5], data.test_data)\n",
    "d.follow_instructions()\n",
    "assert str(d) == 'baedc'\n",
    "\n",
    "d = Dance(abc[:16], data.data)\n",
    "\n",
    "\n",
    "print('answer 1')\n",
    "print(d.get_nth(1))\n",
    "\n",
    "print('answer 2')\n",
    "print(d.get_nth(int(1e9)))"
   ]
  },
  {
   "cell_type": "code",
   "execution_count": 2,
   "metadata": {},
   "outputs": [
    {
     "name": "stdout",
     "output_type": "stream",
     "text": [
      "403 ms ± 15.7 ms per loop (mean ± std. dev. of 7 runs, 1 loop each)\n"
     ]
    }
   ],
   "source": [
    "def run():\n",
    "    d = Dance(abc[:16], data.data)\n",
    "    d.get_nth(int(1e9))\n",
    "\n",
    "%timeit run()"
   ]
  }
 ],
 "metadata": {
  "kernelspec": {
   "display_name": "Python 3",
   "language": "python",
   "name": "python3"
  },
  "language_info": {
   "codemirror_mode": {
    "name": "ipython",
    "version": 3
   },
   "file_extension": ".py",
   "mimetype": "text/x-python",
   "name": "python",
   "nbconvert_exporter": "python",
   "pygments_lexer": "ipython3",
   "version": "3.5.2"
  }
 },
 "nbformat": 4,
 "nbformat_minor": 2
}
