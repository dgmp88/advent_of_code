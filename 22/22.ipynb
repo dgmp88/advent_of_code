{
 "cells": [
  {
   "cell_type": "code",
   "execution_count": 75,
   "metadata": {},
   "outputs": [
    {
     "name": "stdout",
     "output_type": "stream",
     "text": [
      "5240\n"
     ]
    }
   ],
   "source": [
    "%matplotlib inline\n",
    "import matplotlib.pyplot as plt\n",
    "import numpy as np\n",
    "import data \n",
    "import seaborn as sns\n",
    "\n",
    "deg_to_dir = {\n",
    "    0: (-1, 0),\n",
    "    90: (0, 1),\n",
    "    180: (1, 0),\n",
    "    270: (0, -1)\n",
    "}\n",
    "\n",
    "class Virus:\n",
    "    def __init__(self, start_grid, n=10):\n",
    "        self.grid = np.empty((n, n), dtype='U1')\n",
    "        self.grid[:] = '.'\n",
    "        self.bursts = 0\n",
    "        self.infected = 0\n",
    "        center = int(np.floor(n/2))\n",
    "\n",
    "        # Insert the given grid into the middle\n",
    "        start_grid = [list(l) for l in start_grid.split('\\n')]\n",
    "        start_size = len(start_grid)\n",
    "        \n",
    "        insert_from = int(center - np.floor(start_size/2))\n",
    "        insert_to = insert_from + start_size\n",
    "        self.grid[insert_from:insert_to, insert_from:insert_to] = start_grid\n",
    "        \n",
    "        self.x, self.y = center, center\n",
    "        self.dir = 0\n",
    "        \n",
    "    def plot(self):\n",
    "        for i in range(self.grid.shape[0]):\n",
    "            for j in range(self.grid.shape[1]):\n",
    "                val = self.grid[i][j]\n",
    "                if self.x == i and self.y == j:\n",
    "                    print('|' + val + '|', end='')\n",
    "                else:\n",
    "                    print(' ' + val + ' ', end='')\n",
    "            print()\n",
    "            \n",
    "    def move(self):\n",
    "        current_node = self.grid[self.x, self.y]\n",
    "        self.bursts += 1\n",
    "        if current_node == '#':\n",
    "            self.dir += 90\n",
    "            self.grid[self.x, self.y] = '.'\n",
    "        else:\n",
    "            self.dir -= 90\n",
    "            self.grid[self.x, self.y] = '#'\n",
    "            self.infected += 1\n",
    "\n",
    "        self.dir = self.dir % 360\n",
    "        dir_ = deg_to_dir[self.dir]\n",
    "        self.x += dir_[0]\n",
    "        self.y += dir_[1]\n",
    "\n",
    "        \n",
    "v = Virus(data.test_data, n=10001)\n",
    "for i in range(10000):\n",
    "    v.move()\n",
    "assert v.infected == 5587\n",
    "\n",
    "v = Virus(data.data, n=10001)\n",
    "for i in range(10000):\n",
    "    v.move()\n",
    "print(v.infected)"
   ]
  },
  {
   "cell_type": "code",
   "execution_count": 103,
   "metadata": {},
   "outputs": [
    {
     "name": "stdout",
     "output_type": "stream",
     "text": [
      "2511944\n"
     ]
    }
   ],
   "source": [
    "class Virus_2(Virus):            \n",
    "    def move(self):\n",
    "        current_node = self.grid[self.x, self.y]\n",
    "        self.bursts += 1\n",
    "        if current_node == '#':\n",
    "            self.dir += 90\n",
    "            self.grid[self.x, self.y] = 'F'\n",
    "        elif current_node == '.':\n",
    "            self.dir -= 90\n",
    "            self.grid[self.x, self.y] = 'W'\n",
    "        elif current_node == 'F':\n",
    "            self.dir -= 180\n",
    "            self.grid[self.x, self.y] = '.'\n",
    "        elif current_node == 'W':\n",
    "            # Don't cahnge dir \n",
    "            self.grid[self.x, self.y] = '#'\n",
    "            self.infected += 1\n",
    "\n",
    "\n",
    "        self.dir = self.dir % 360\n",
    "        dir_ = deg_to_dir[self.dir]\n",
    "        self.x += dir_[0]\n",
    "        self.y += dir_[1]\n",
    "\n",
    "        \n",
    "v = Virus_2(data.test_data, n=20)\n",
    "for i in range(100):\n",
    "    v.move()\n",
    "assert v.infected == 26\n",
    "\n",
    "v = Virus_2(data.test_data, n=10000)\n",
    "for i in range(10000000):\n",
    "    v.move()\n",
    "print(v.infected)\n",
    "assert v.infected == 2511944\n",
    "\n",
    "\n",
    "# v = Virus(data.data, n=10001)\n",
    "# for i in range(10000):\n",
    "#     v.move()\n",
    "# print(v.infected)"
   ]
  },
  {
   "cell_type": "code",
   "execution_count": 104,
   "metadata": {},
   "outputs": [
    {
     "name": "stdout",
     "output_type": "stream",
     "text": [
      "2512144\n"
     ]
    }
   ],
   "source": [
    "v = Virus_2(data.data, n=10000)\n",
    "for i in range(10000000):\n",
    "    v.move()\n",
    "print(v.infected)\n"
   ]
  }
 ],
 "metadata": {
  "kernelspec": {
   "display_name": "Python 3",
   "language": "python",
   "name": "python3"
  },
  "language_info": {
   "codemirror_mode": {
    "name": "ipython",
    "version": 3
   },
   "file_extension": ".py",
   "mimetype": "text/x-python",
   "name": "python",
   "nbconvert_exporter": "python",
   "pygments_lexer": "ipython3",
   "version": "3.5.2"
  }
 },
 "nbformat": 4,
 "nbformat_minor": 2
}
