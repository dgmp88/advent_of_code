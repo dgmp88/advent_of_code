{
 "cells": [
  {
   "cell_type": "code",
   "execution_count": 177,
   "metadata": {},
   "outputs": [],
   "source": [
    "import data\n",
    "from string import ascii_lowercase\n",
    "%matplotlib inline\n",
    "import numpy as np\n",
    "import matplotlib.pyplot as plt\n",
    "import seaborn as sns\n",
    "\n",
    "class Tablet:\n",
    "    def __init__(self, instructions):\n",
    "        self.register_keys = ascii_lowercase[:8]\n",
    "        self.registers = {s: 0 for s in self.register_keys}\n",
    "        self.pos = 0\n",
    "        self.muls = 0\n",
    "        self.iter = 1\n",
    "\n",
    "        self.parse(instructions)\n",
    "        \n",
    "    def parse(self, instructions):\n",
    "        self.instructions = [tuple(instruction.split(' ')) for instruction in instructions.split('\\n')]\n",
    "    \n",
    "    def run(self, limit=float('inf')):\n",
    "        while self.iter < limit:\n",
    "            if self.process() == 'done':\n",
    "                break\n",
    "            \n",
    "    def process(self):\n",
    "        if self.pos < 0 or self.pos >= len(self.instructions):\n",
    "            return 'done';\n",
    "        \n",
    "        line = self.instructions[self.pos]\n",
    "#         print(' '.join(line))\n",
    "        op = line[0]\n",
    "        \n",
    "        # Get the argument and it's value \n",
    "        arg1, arg1_val = self.get(line[1])\n",
    "        arg2, arg2_val = self.get(line[2])\n",
    "        \n",
    "        self.instruct(line, op, arg1, arg1_val, arg2, arg2_val)\n",
    "        \n",
    "    def instruct(self, line, op, arg1, arg1_val, arg2, arg2_val):\n",
    "        self.iter += 1\n",
    "        if op == 'set':\n",
    "            self.set(arg1, arg2_val)\n",
    "        elif op == 'sub':\n",
    "            self.set(arg1, arg1_val - arg2_val)\n",
    "        elif op == 'mul':\n",
    "            self.set(arg1, arg1_val * arg2_val)\n",
    "            self.muls += 1\n",
    "        elif op == 'jnz':\n",
    "            if arg1_val != 0:\n",
    "                self.pos += arg2_val\n",
    "                return \n",
    "        self.pos += 1\n",
    "    \n",
    "    def get(self, register):\n",
    "        if is_numeric(register):\n",
    "            return None, int(register)\n",
    "        \n",
    "        if register not in self.registers:\n",
    "            self.registers[register] = 0\n",
    "            \n",
    "        return register, self.registers[register]\n",
    "    \n",
    "    def set(self, register, val):\n",
    "        self.registers[register] = val\n",
    "        \n",
    "    def __str__(self):\n",
    "        keys = list(self.registers.keys())\n",
    "        keys.sort()\n",
    "        s = ''\n",
    "        for k in keys:\n",
    "            s += k + ': ' + str(self.registers[k]) + '\\n'\n",
    "        return s\n",
    "\n",
    "def is_numeric(string):\n",
    "    try:\n",
    "        int(string)\n",
    "        return True\n",
    "    except ValueError:\n",
    "        return False\n",
    "        \n",
    "        \n",
    "t = Tablet(data.data)\n",
    "t.run()\n",
    "\n",
    "assert t.muls == 3025"
   ]
  },
  {
   "cell_type": "markdown",
   "metadata": {},
   "source": [
    "# 2 ways of plotting whats going on \n",
    "- index of instruction against iteration\n",
    "- register values as they change "
   ]
  },
  {
   "cell_type": "code",
   "execution_count": 208,
   "metadata": {},
   "outputs": [
    {
     "name": "stdout",
     "output_type": "stream",
     "text": [
      "{'e': 0, 'a': 1, 'f': 0, 'g': 0, 'c': 57, 'b': 57, 'h': 0, 'd': 0}\n",
      "{'e': 2, 'a': 1, 'f': 1, 'g': -105696, 'c': 122700, 'b': 105700, 'h': 0, 'd': 2}\n",
      "{'e': 3, 'a': 1, 'f': 1, 'g': -105697, 'c': 122700, 'b': 105700, 'h': 0, 'd': 2}\n",
      "{'e': 3, 'a': 1, 'f': 1, 'g': -105694, 'c': 122700, 'b': 105700, 'h': 0, 'd': 2}\n",
      "{'e': 4, 'a': 1, 'f': 1, 'g': -105696, 'c': 122700, 'b': 105700, 'h': 0, 'd': 2}\n",
      "{'e': 4, 'a': 1, 'f': 1, 'g': -105692, 'c': 122700, 'b': 105700, 'h': 0, 'd': 2}\n",
      "{'e': 5, 'a': 1, 'f': 1, 'g': -105695, 'c': 122700, 'b': 105700, 'h': 0, 'd': 2}\n",
      "{'e': 5, 'a': 1, 'f': 1, 'g': -105690, 'c': 122700, 'b': 105700, 'h': 0, 'd': 2}\n",
      "{'e': 6, 'a': 1, 'f': 1, 'g': -105694, 'c': 122700, 'b': 105700, 'h': 0, 'd': 2}\n",
      "{'e': 6, 'a': 1, 'f': 1, 'g': -105688, 'c': 122700, 'b': 105700, 'h': 0, 'd': 2}\n",
      "{'e': 7, 'a': 1, 'f': 1, 'g': -105693, 'c': 122700, 'b': 105700, 'h': 0, 'd': 2}\n",
      "{'e': 7, 'a': 1, 'f': 1, 'g': -105686, 'c': 122700, 'b': 105700, 'h': 0, 'd': 2}\n",
      "{'e': 8, 'a': 1, 'f': 1, 'g': -105692, 'c': 122700, 'b': 105700, 'h': 0, 'd': 2}\n",
      "{'e': 8, 'a': 1, 'f': 1, 'g': -105684, 'c': 122700, 'b': 105700, 'h': 0, 'd': 2}\n",
      "{'e': 9, 'a': 1, 'f': 1, 'g': -105691, 'c': 122700, 'b': 105700, 'h': 0, 'd': 2}\n",
      "{'e': 9, 'a': 1, 'f': 1, 'g': -105682, 'c': 122700, 'b': 105700, 'h': 0, 'd': 2}\n",
      "{'e': 10, 'a': 1, 'f': 1, 'g': -105690, 'c': 122700, 'b': 105700, 'h': 0, 'd': 2}\n",
      "{'e': 10, 'a': 1, 'f': 1, 'g': -105680, 'c': 122700, 'b': 105700, 'h': 0, 'd': 2}\n",
      "{'e': 11, 'a': 1, 'f': 1, 'g': -105689, 'c': 122700, 'b': 105700, 'h': 0, 'd': 2}\n",
      "{'e': 11, 'a': 1, 'f': 1, 'g': -105678, 'c': 122700, 'b': 105700, 'h': 0, 'd': 2}\n",
      "{'e': 12, 'a': 1, 'f': 1, 'g': -105688, 'c': 122700, 'b': 105700, 'h': 0, 'd': 2}\n",
      "{'e': 12, 'a': 1, 'f': 1, 'g': -105676, 'c': 122700, 'b': 105700, 'h': 0, 'd': 2}\n",
      "{'e': 13, 'a': 1, 'f': 1, 'g': -105687, 'c': 122700, 'b': 105700, 'h': 0, 'd': 2}\n",
      "a: 1\n",
      "b: 105700\n",
      "c: 122700\n",
      "d: 2\n",
      "e: 13\n",
      "f: 1\n",
      "g: 2\n",
      "h: 0\n",
      "\n"
     ]
    },
    {
     "data": {
      "image/png": "[encoded data removed]",
      "text/plain": [
       "<matplotlib.figure.Figure at 0x12cf8fe10>"
      ]
     },
     "metadata": {},
     "output_type": "display_data"
    }
   ],
   "source": [
    "d2 = '''set b 57\n",
    "set c b\n",
    "jnz a 2\n",
    "jnz 1 5\n",
    "mul b 100\n",
    "sub b -100000\n",
    "set c b\n",
    "sub c -17000\n",
    "set f 1\n",
    "set d 2\n",
    "set e 2\n",
    "set g d\n",
    "mul g e\n",
    "sub g b\n",
    "jnz g 2\n",
    "set f 0\n",
    "sub e -1\n",
    "set g e\n",
    "sub g b\n",
    "jnz g -8\n",
    "sub d -1\n",
    "set g d\n",
    "sub g b\n",
    "jnz g -13\n",
    "jnz f 2\n",
    "sub h -1\n",
    "set g b\n",
    "sub g c\n",
    "jnz g 2\n",
    "jnz 1 3\n",
    "sub b -17\n",
    "jnz 1 -23'''\n",
    "\n",
    "class Tablet_2(Tablet):\n",
    "    def __init__(self, instructions):\n",
    "        Tablet.__init__(self, instructions)\n",
    "        self.h1 = {k:[] for k in self.register_keys}\n",
    "        self.h1['jnz'] = []\n",
    "        self.h2 = []\n",
    "        \n",
    "    def instruct(self, line, op, arg1, arg1_val, arg2, arg2_val):\n",
    "        info = [self.pos]\n",
    "        oldpos = self.pos + 0            \n",
    "        Tablet.instruct(self, line, op, arg1, arg1_val, arg2, arg2_val)\n",
    "        if op == 'jnz':\n",
    "            print(self.registers)\n",
    "            self.h1['jnz'].append(info)\n",
    "        else:\n",
    "            info.append(self.registers[arg1])\n",
    "            self.h1[arg1].append(info)\n",
    "        t.h2.append(oldpos)\n",
    "         \n",
    "\n",
    "    def get_state(self):\n",
    "        state = [self.pos]\n",
    "        state.extend([self.registers[k] for k in self.register_keys])\n",
    "        return state\n",
    "\n",
    "# # Sanity check\n",
    "# t = Tablet_2(d2)\n",
    "# t.run()\n",
    "# assert t.muls == 3025\n",
    "\n",
    "# Real data\n",
    "t = Tablet_2(d2)\n",
    "t.registers['a'] = 1\n",
    "# t.registers = {'a': 1, 'b': 105700, 'c': 122700, 'd': 2, 'e': 105700, 'f': 0, 'g': 0, 'h': 0}\n",
    "t.run(100)\n",
    "\n",
    "plt.plot(t.h2, 'o-')\n",
    "print(t)\n",
    "# h = np.array(t.history)\n",
    "# for k in t.register_keys:\n",
    "#     plt.plot(h[:, 1:])\n",
    "# plt.legend(t.register_keys)"
   ]
  },
  {
   "cell_type": "code",
   "execution_count": 182,
   "metadata": {},
   "outputs": [
    {
     "data": {
      "text/plain": [
       "{'a': 1,\n",
       " 'b': 105700,\n",
       " 'c': 122700,\n",
       " 'd': 3,\n",
       " 'e': 3,\n",
       " 'f': 0,\n",
       " 'g': -105697,\n",
       " 'h': 0}"
      ]
     },
     "execution_count": 182,
     "metadata": {},
     "output_type": "execute_result"
    }
   ],
   "source": [
    "# With help from here: https://github.com/dp1/AoC17/blob/master/day23.5.txt\n",
    "\n",
    "data = '''\n",
    "set f 1\n",
    "set d 2\n",
    "    set e 2\n",
    "        set g d\n",
    "        mul g e\n",
    "        sub g b\n",
    "            jnz g 2\n",
    "            set f 0\n",
    "        sub e -1\n",
    "        set g e\n",
    "        sub g b\n",
    "        jnz g -8\n",
    "    sub d -1\n",
    "    set g d\n",
    "    sub g b\n",
    "    jnz g -13\n",
    "\n",
    "jnz f 2\n",
    "sub h -1\n",
    "\n",
    "set g b\n",
    "sub g c\n",
    "\n",
    "jnz g 2\n",
    "jnz 1 3\n",
    "\n",
    "sub b -17\n",
    "jnz 1 -23'''\n"
   ]
  },
  {
   "cell_type": "code",
   "execution_count": 200,
   "metadata": {},
   "outputs": [
    {
     "name": "stdout",
     "output_type": "stream",
     "text": [
      "122700 105700\n"
     ]
    }
   ],
   "source": [
    "f, d = 1, 2\n",
    "    e = 2\n",
    "        if d * e - b == 0:\n",
    "            f = 0\n",
    "        e += 1\n",
    "        if e - b != 0:\n",
    "            loop\n",
    "    d -= 1\n",
    "    g = d - b \n",
    "    if g != 0:\n",
    "        loop\n",
    "    \n",
    "if f == 0:\n",
    "    h += 1"
   ]
  },
  {
   "cell_type": "code",
   "execution_count": 218,
   "metadata": {},
   "outputs": [
    {
     "name": "stdout",
     "output_type": "stream",
     "text": [
      "915\n"
     ]
    }
   ],
   "source": [
    "h = 0\n",
    "\n",
    "def is_prime(n):\n",
    "    if n==2 or n==3: return True\n",
    "    if n%2==0 or n<2: return False\n",
    "    for i in range(3,int(n**0.5)+1,2):   # only odd numbers\n",
    "        if n%i==0:\n",
    "            return False    \n",
    "\n",
    "    return True\n",
    "for b in range(105700, 122700+1, 17):\n",
    "    if not is_prime(b):\n",
    "        h += 1\n",
    "print(h)"
   ]
  },
  {
   "cell_type": "code",
   "execution_count": 211,
   "metadata": {},
   "outputs": [
    {
     "data": {
      "text/plain": [
       "0"
      ]
     },
     "execution_count": 211,
     "metadata": {},
     "output_type": "execute_result"
    }
   ],
   "source": [
    "h"
   ]
  },
  {
   "cell_type": "code",
   "execution_count": 209,
   "metadata": {},
   "outputs": [
    {
     "data": {
      "text/plain": [
       "8"
      ]
     },
     "execution_count": 209,
     "metadata": {},
     "output_type": "execute_result"
    }
   ],
   "source": [
    "31-23"
   ]
  },
  {
   "cell_type": "code",
   "execution_count": null,
   "metadata": {},
   "outputs": [],
   "source": []
  }
 ],
 "metadata": {
  "kernelspec": {
   "display_name": "Python 3",
   "language": "python",
   "name": "python3"
  },
  "language_info": {
   "codemirror_mode": {
    "name": "ipython",
    "version": 3
   },
   "file_extension": ".py",
   "mimetype": "text/x-python",
   "name": "python",
   "nbconvert_exporter": "python",
   "pygments_lexer": "ipython3",
   "version": "3.5.2"
  }
 },
 "nbformat": 4,
 "nbformat_minor": 2
}
