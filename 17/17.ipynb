{
 "cells": [
  {
   "cell_type": "markdown",
   "metadata": {},
   "source": [
    "# Simple way with a list for part 1"
   ]
  },
  {
   "cell_type": "code",
   "execution_count": 1,
   "metadata": {},
   "outputs": [
    {
     "name": "stdout",
     "output_type": "stream",
     "text": [
      "1530\n",
      "136\n",
      "172\n"
     ]
    }
   ],
   "source": [
    "class Spinlock:\n",
    "    def __init__(self, step):\n",
    "        self.step = step\n",
    "        self.buffer = [0] \n",
    "        self.pos = 0\n",
    "        self.val = 1\n",
    "        \n",
    "    def move(self):\n",
    "        self.pos = (self.pos + self.step) % len(self.buffer)\n",
    "        self.buffer.insert(self.pos + 1, self.val)\n",
    "        self.pos = self.pos + 1\n",
    "        self.val += 1\n",
    "        \n",
    "    def run(self, n):\n",
    "        for i in range(n):\n",
    "            s.move()\n",
    "    \n",
    "    def __str__(self):\n",
    "        return str(self.buffer)\n",
    "    \n",
    "    \n",
    "s = Spinlock(3)\n",
    "s.run(2017)\n",
    "print(s.pos)\n",
    "assert s.buffer[s.pos+1] == 638\n",
    "\n",
    "s = Spinlock(363)\n",
    "s.run(2017)\n",
    "print(s.buffer[s.pos+1])\n",
    "print(s.pos)"
   ]
  },
  {
   "cell_type": "markdown",
   "metadata": {},
   "source": [
    "# Without using a list for part 2"
   ]
  },
  {
   "cell_type": "code",
   "execution_count": 2,
   "metadata": {},
   "outputs": [
    {
     "name": "stdout",
     "output_type": "stream",
     "text": [
      "1080289\n"
     ]
    }
   ],
   "source": [
    "class Spinlock:\n",
    "    def __init__(self, step):\n",
    "        self.step = step\n",
    "    \n",
    "    def get_num_pos(self, n, runs):\n",
    "        n_pos = 0\n",
    "        pos = 0\n",
    "        for i in range(1, runs + 1):\n",
    "            pos += self.step\n",
    "            pos = pos % i\n",
    "            pos += 1\n",
    "            if i == n: \n",
    "                n_pos = pos\n",
    "            elif pos < n_pos:\n",
    "                n_pos += 1\n",
    "                \n",
    "        return n_pos\n",
    "\n",
    "    \n",
    "    def get_pos_val(self, n, runs):\n",
    "        res = 0\n",
    "        pos = 0\n",
    "        for i in range(1, runs + 1):\n",
    "            pos += self.step\n",
    "            pos = pos % i\n",
    "            pos += 1\n",
    "            if pos == n:\n",
    "                res = i\n",
    "        return res\n",
    "    \n",
    "s = Spinlock(363)\n",
    "print(s.get_pos_val(1, int(5e7)))"
   ]
  }
 ],
 "metadata": {
  "kernelspec": {
   "display_name": "Python 3",
   "language": "python",
   "name": "python3"
  },
  "language_info": {
   "codemirror_mode": {
    "name": "ipython",
    "version": 3
   },
   "file_extension": ".py",
   "mimetype": "text/x-python",
   "name": "python",
   "nbconvert_exporter": "python",
   "pygments_lexer": "ipython3",
   "version": "3.5.2"
  }
 },
 "nbformat": 4,
 "nbformat_minor": 2
}
